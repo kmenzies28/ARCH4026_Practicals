{
  "nbformat": 4,
  "nbformat_minor": 0,
  "metadata": {
    "colab": {
      "name": "MESA Tutorial",
      "provenance": [],
      "collapsed_sections": [],
      "include_colab_link": true
    },
    "kernelspec": {
      "name": "python3",
      "display_name": "Python 3"
    }
  },
  "cells": [
    {
      "cell_type": "markdown",
      "metadata": {
        "id": "view-in-github",
        "colab_type": "text"
      },
      "source": [
        "<a href=\"https://colab.research.google.com/github/kmenzies28/ARCH4026_Practicals/blob/master/MESA_Tutorial2.ipynb\" target=\"_parent\"><img src=\"https://colab.research.google.com/assets/colab-badge.svg\" alt=\"Open In Colab\"/></a>"
      ]
    },
    {
      "cell_type": "markdown",
      "metadata": {
        "id": "QNYMZrTS3QEo",
        "colab_type": "text"
      },
      "source": [
        "**Our MESA Tutorial**"
      ]
    },
    {
      "cell_type": "markdown",
      "metadata": {
        "id": "p0pDmzRttBaJ",
        "colab_type": "text"
      },
      "source": [
        "The notebook below is owed to those working on the MESA project available @ https://mesa.readthedocs.io/en/master/tutorials/intro_tutorial.html [Last Accessed 04 December 2019]"
      ]
    },
    {
      "cell_type": "markdown",
      "metadata": {
        "id": "XjmuI4Ps16Ng",
        "colab_type": "text"
      },
      "source": [
        "The aim of this tutorial is for us to see **agents** exchanging **money** with one another. We are able to add in **space** so that agents can move.\n",
        "\n",
        "This is an **agent-based economy** and essentially uses **statistics** to predict wealth distribution.\n",
        "\n",
        "This is a very simplified Agent-Based Model, but it will illustrate how MESA works.\n",
        "\n",
        "MESA needs Python 3, no other version, to be able to run."
      ]
    },
    {
      "cell_type": "markdown",
      "metadata": {
        "id": "lhRQr2wT3MUq",
        "colab_type": "text"
      },
      "source": [
        "These are the rules of our tutorial:\n",
        "1. There are a number of agents,\n",
        "2. Every agent in the simulation begins with a single unit of currency, and\n",
        "3. An agent will give 1 unit of currency to another agent (if they have any) at each step of the model if they meet each other in the correct space"
      ]
    },
    {
      "cell_type": "markdown",
      "metadata": {
        "id": "r-j-5DU15ef0",
        "colab_type": "text"
      },
      "source": [
        "**PART I: Time to Install MESA!**"
      ]
    },
    {
      "cell_type": "markdown",
      "metadata": {
        "id": "rC4taZeO57yF",
        "colab_type": "text"
      },
      "source": [
        "We need to install MESA as our first step.\n",
        "As part of this, we also need to set-up [pipenv] which combines the virtual environment alongside the [dotenv] projects (in essence, this will simplify any experience you have with MESA as it will do the heavy-lifting for us)."
      ]
    },
    {
      "cell_type": "code",
      "metadata": {
        "id": "YvF_2r2T6F1I",
        "colab_type": "code",
        "colab": {}
      },
      "source": [
        "!pip install mesa"
      ],
      "execution_count": 0,
      "outputs": []
    },
    {
      "cell_type": "code",
      "metadata": {
        "id": "oXi4r03_6QBT",
        "colab_type": "code",
        "colab": {}
      },
      "source": [
        "!pip install pipenv"
      ],
      "execution_count": 0,
      "outputs": []
    },
    {
      "cell_type": "markdown",
      "metadata": {
        "id": "z8_7K_KU7Lkz",
        "colab_type": "text"
      },
      "source": [
        "This sets up a closed-off environment for us to work in."
      ]
    },
    {
      "cell_type": "code",
      "metadata": {
        "id": "dsq64yky6Pve",
        "colab_type": "code",
        "colab": {}
      },
      "source": [
        "import mesa\n",
        "import numpy\n",
        "import matplotlib"
      ],
      "execution_count": 0,
      "outputs": []
    },
    {
      "cell_type": "markdown",
      "metadata": {
        "id": "PIOPrkJE7U2k",
        "colab_type": "text"
      },
      "source": [
        "**PART II: Let's Build A Sample Model**"
      ]
    },
    {
      "cell_type": "markdown",
      "metadata": {
        "id": "Sbcvyd-y7dKI",
        "colab_type": "text"
      },
      "source": [
        "So, to summarise so far, we have installed MESA. What we are going to do next is set up our model. "
      ]
    },
    {
      "cell_type": "markdown",
      "metadata": {
        "id": "02Z9rHuh8Mb1",
        "colab_type": "text"
      },
      "source": [
        "The code we need to write to create our model is made up of two parts:\n",
        "1. Code for the overall model:\n",
        "\n",
        " a. Which essentially contains all of the model-level characteristics, manages the agents and basically runs the global level of this model, and \n",
        "\n",
        " b. Which will contain several agents.\n",
        "\n",
        "2. Code for the agents :\n",
        "\n",
        "  a. Who only have one variable - how much currency they currently have, and\n",
        "\n",
        "  b. Who have a unique identifier (like a name) which will be stored in [unique_id].\n",
        "\n",
        "\n",
        "There is only one parameter that applies to the model - the number of agents which are contained in the model. Once a model starts, we want it to know to populate itself with the number of agents that we want."
      ]
    },
    {
      "cell_type": "markdown",
      "metadata": {
        "id": "UN8outf7Si6j",
        "colab_type": "text"
      },
      "source": [
        "Both the code for the agents and for the model (respectively) begins as such below:"
      ]
    },
    {
      "cell_type": "code",
      "metadata": {
        "id": "27_gj_dE8DYO",
        "colab_type": "code",
        "colab": {}
      },
      "source": [
        "from mesa import Agent, Model\n",
        "\n",
        "class MoneyAgent(Agent):\n",
        "    \"\"\"An agent with fixed initial wealth.\"\"\"\n",
        "    def __init__(self, unique_id, model):\n",
        "        super().__init__(unique_id, model)\n",
        "        self.wealth = 1\n",
        "\n",
        "class MoneyModel(Model):\n",
        "    \"\"\"A model with some number of agents.\"\"\"\n",
        "    def __init__(self, N):\n",
        "        self.num_agents = N\n",
        "        # Create agents\n",
        "        for i in range(self.num_agents):\n",
        "            a = MoneyAgent(i, self)"
      ],
      "execution_count": 0,
      "outputs": []
    },
    {
      "cell_type": "markdown",
      "metadata": {
        "id": "eSmbH9SqS5Mp",
        "colab_type": "text"
      },
      "source": [
        "**PART III: Let's Add the Scheduler (Time Element)**"
      ]
    },
    {
      "cell_type": "markdown",
      "metadata": {
        "id": "oYV9XSRoTK8c",
        "colab_type": "text"
      },
      "source": [
        "Note: with the majority of Agent-Based Models, time moves in what is called 'ticks' or 'steps'. Basically, at each one of these steps, each agent becomes 'activated' and takes one of their own actions/movements (interacting with each other or the environment within the simulation)."
      ]
    },
    {
      "cell_type": "markdown",
      "metadata": {
        "id": "nzYGroiyUjxC",
        "colab_type": "text"
      },
      "source": [
        "*What is the Scheduler?*\n",
        "\n",
        "It is the part of the model which controlls the order in which the agents are activated. So we can manipulate this depending on if we want all the agents to move in the exact same order at every step, if we want this order shuffled etc. "
      ]
    },
    {
      "cell_type": "markdown",
      "metadata": {
        "id": "Xl3YuVC-WdnB",
        "colab_type": "text"
      },
      "source": [
        "[RandomActivation] is the simplest command one can use in Mesa, it is demonstrated below.\n",
        "\n",
        "This commands every agent to move once per step in a, you guessed it, completely random order. \n",
        "\n",
        "Every single agent...\n",
        "\n",
        "The code below is the same as that above but with the scheduler added on."
      ]
    },
    {
      "cell_type": "code",
      "metadata": {
        "id": "w7j3CyzFS5-W",
        "colab_type": "code",
        "colab": {}
      },
      "source": [
        "from mesa import Agent, Model\n",
        "from mesa.time import RandomActivation\n",
        "\n",
        "class MoneyAgent(Agent):\n",
        "    \"\"\" An agent with fixed initial wealth.\"\"\"\n",
        "    def __init__(self, unique_id, model):\n",
        "        super().__init__(unique_id, model)\n",
        "        self.wealth = 1\n",
        "\n",
        "    def step(self):\n",
        "        # The agent's step will go here.\n",
        "        pass\n",
        "\n",
        "class MoneyModel(Model):\n",
        "    \"\"\"A model with some number of agents.\"\"\"\n",
        "    def __init__(self, N):\n",
        "        self.num_agents = N\n",
        "        self.schedule = RandomActivation(self)\n",
        "        # Create agents\n",
        "        for i in range(self.num_agents):\n",
        "            a = MoneyAgent(i, self)\n",
        "            self.schedule.add(a)\n",
        "\n",
        "    def step(self):\n",
        "        '''Advance the model by one step.'''\n",
        "        self.schedule.step()"
      ],
      "execution_count": 0,
      "outputs": []
    },
    {
      "cell_type": "markdown",
      "metadata": {
        "id": "ZrQ5cp6kUufq",
        "colab_type": "text"
      },
      "source": [
        "Don't panic if the model does not produce anything once you've pressed the 'play' buttons on all the lines of code, this does work.\n",
        "\n",
        "To create the model object and run it, activate the code below:"
      ]
    },
    {
      "cell_type": "code",
      "metadata": {
        "id": "pkmUXCmgUtDd",
        "colab_type": "code",
        "colab": {}
      },
      "source": [
        "empty_model = MoneyModel(10)\n",
        "empty_model.step()"
      ],
      "execution_count": 0,
      "outputs": []
    },
    {
      "cell_type": "markdown",
      "metadata": {
        "id": "ERf7Wm4vFTDN",
        "colab_type": "text"
      },
      "source": [
        "**PART IV: Where Are Our Agents?**"
      ]
    },
    {
      "cell_type": "markdown",
      "metadata": {
        "id": "8cA60JikXoa8",
        "colab_type": "text"
      },
      "source": [
        "Now, we need to ..."
      ]
    },
    {
      "cell_type": "code",
      "metadata": {
        "id": "61txfme3X03F",
        "colab_type": "code",
        "colab": {}
      },
      "source": [
        "class MoneyAgent(Agent):\n",
        "    \"\"\" An agent with fixed initial wealth.\"\"\"\n",
        "    def __init__(self, unique_id, model):\n",
        "        super().__init__(unique_id, model)\n",
        "        self.wealth = 1\n",
        "\n",
        "    def step(self):\n",
        "        if self.wealth == 0:\n",
        "            return\n",
        "        other_agent = self.random.choice(self.model.schedule.agents)\n",
        "        other_agent.wealth += 1\n",
        "        self.wealth -= 1"
      ],
      "execution_count": 0,
      "outputs": []
    },
    {
      "cell_type": "markdown",
      "metadata": {
        "id": "j-sBeMcdX7TS",
        "colab_type": "text"
      },
      "source": [
        "**PART V: Running the First Model**"
      ]
    },
    {
      "cell_type": "markdown",
      "metadata": {
        "id": "Aj-xpc4eX_Ta",
        "colab_type": "text"
      },
      "source": [
        "...\n",
        "\n",
        "Now, activate the next line to create your model - it will have 10 agents and it will run for 10 steps."
      ]
    },
    {
      "cell_type": "code",
      "metadata": {
        "id": "Bbpz8KNIX_yA",
        "colab_type": "code",
        "colab": {}
      },
      "source": [
        "model = MoneyModel(10)\n",
        "for i in range(10):\n",
        "    model.step()"
      ],
      "execution_count": 0,
      "outputs": []
    },
    {
      "cell_type": "markdown",
      "metadata": {
        "id": "hgYwWuKOYO3B",
        "colab_type": "text"
      },
      "source": [
        "What is the point in running the model without extracting any data from it? \n",
        "\n",
        "So, we want to see the distribution of the agent's wealth. We are able to retrieve the wealth values from the simulation and we can view this on a histogram using [matplotlib]"
      ]
    },
    {
      "cell_type": "code",
      "metadata": {
        "id": "HBiZArqIYuiT",
        "colab_type": "code",
        "colab": {}
      },
      "source": [
        "%matplotlib inline\n",
        "\n",
        "import matplotlib.pyplot as plt\n",
        "\n",
        "agent_wealth = [a.wealth for a in model.schedule.agents]\n",
        "plt.hist(agent_wealth)"
      ],
      "execution_count": 0,
      "outputs": []
    },
    {
      "cell_type": "markdown",
      "metadata": {
        "id": "8U0raDW7Y7Su",
        "colab_type": "text"
      },
      "source": [
        "Don't worry if your histogram looks slightly different from the person sitting next to you, each run of the model is completely random so differences are expected.\n",
        "\n",
        "Using a nested for loop, we can assess how a model behaves. This is where we create multiple model runs to see the distribution that will appear from all of them."
      ]
    },
    {
      "cell_type": "code",
      "metadata": {
        "id": "RjurfaYOY5ha",
        "colab_type": "code",
        "colab": {}
      },
      "source": [
        "all_wealth = []\n",
        "for j in range(100):\n",
        "    # Run the model\n",
        "    model = MoneyModel(10)\n",
        "    for i in range(10):\n",
        "        model.step()\n",
        "\n",
        "    # Store the results\n",
        "    for agent in model.schedule.agents:\n",
        "        all_wealth.append(agent.wealth)\n",
        "\n",
        "plt.hist(all_wealth, bins=range(max(all_wealth)+1))"
      ],
      "execution_count": 0,
      "outputs": []
    },
    {
      "cell_type": "markdown",
      "metadata": {
        "id": "61qHFlxtaXfu",
        "colab_type": "text"
      },
      "source": [
        "Basically, what we have done above is carry out 100 instantiations of our model, which is ran for 10 steps.\n",
        "\n",
        "**Agents can only have whole numbers assigned to their wealth, hencewhy the histogram shows integers only.*\n",
        "\n",
        "If we look at this histogram compared to the last, it is clearly far more sleek as by running the simulation 100 times as opposed to just 10, the random behaviour calms and an overall expected pattern appears.\n",
        "\n",
        "\n",
        "*Is this Unexpected?*\n",
        "\n",
        "If we think about it - all agents act to give and recieve one unit of money at every stage of the simulation. But, the output we see above looks like most of the agents in the simulation have a little amount of money where a few of the agents have a lot of money."
      ]
    },
    {
      "cell_type": "markdown",
      "metadata": {
        "id": "kXk6NgAuE9Y9",
        "colab_type": "text"
      },
      "source": [
        "**PART VII: We Should Add Some Space**"
      ]
    },
    {
      "cell_type": "markdown",
      "metadata": {
        "id": "1WLC5xZSFjnt",
        "colab_type": "text"
      },
      "source": [
        "This course is concerned with spatial analysis - so where is our spatial element?\n",
        "\n",
        "We can use MESA to replicate these neighbour interactions.\n",
        "\n",
        "MESA can host both grid and continuous spaces (the difference being that grids work like a chess board, so agents can only sit on a particlar cell within the board, whereas continuous spaces allow agents to move into any cell whatsoever). Regardless, both layouts mean that no cell will have fewer neighbours than others and any agent will not be able to go off the edge of the environment. This is because - if again we think about it like a chess board - each cell on its right edge is connected to another on its left edge, and likewise top to bottom. The term for this is **toroidal**."
      ]
    },
    {
      "cell_type": "markdown",
      "metadata": {
        "id": "ncpBtFjPIAhf",
        "colab_type": "text"
      },
      "source": [
        "We are going to use a grid to start with as opposed to a continuous space. Again, this spatial element will be very simple. The agents will walk across the grid randomly, and only when they meet another agent on the same cell as them will they give them their unit of currency."
      ]
    },
    {
      "cell_type": "markdown",
      "metadata": {
        "id": "vIsA2LrNIemr",
        "colab_type": "text"
      },
      "source": [
        "MESA commonly has 2 different types of grids:\n",
        "\n",
        "1. A [SingleGrid] which only allows one agent at each cell, and\n",
        "\n",
        "2. A [MultiGrid] which can have more than one agent to each cell.\n",
        "\n",
        "It makes sense for us to use the [MultiGrid] function as we want to run a simulation that lets more than one agent to be in a cell at a time."
      ]
    },
    {
      "cell_type": "code",
      "metadata": {
        "id": "0JVjElpSIdne",
        "colab_type": "code",
        "colab": {}
      },
      "source": [
        "from mesa.space import MultiGrid"
      ],
      "execution_count": 0,
      "outputs": []
    },
    {
      "cell_type": "markdown",
      "metadata": {
        "id": "FCPSDcscIi9Q",
        "colab_type": "text"
      },
      "source": [
        "We will create a grid with width and height limits, and a boolean as to if the grid is toroidal. \n",
        "\n",
        "For the purposes of this simulation, the limits discussed above, the number of agents and the grid itself will be toroidal.\n",
        "\n",
        "We can put agents on the grid with the [place_agent] method on the grid. This will take an agent and an X and Y sequence of the coordinates in order to place the individual."
      ]
    },
    {
      "cell_type": "code",
      "metadata": {
        "id": "EUTLhAxKIji0",
        "colab_type": "code",
        "colab": {}
      },
      "source": [
        "class MoneyModel(Model):\n",
        "    \"\"\"A model with some number of agents.\"\"\"\n",
        "    def __init__(self, N, width, height):\n",
        "        self.num_agents = N\n",
        "        self.grid = MultiGrid(width, height, True)\n",
        "        self.schedule = RandomActivation(self)\n",
        "\n",
        "        # Create agents\n",
        "        for i in range(self.num_agents):\n",
        "            a = MoneyAgent(i, self)\n",
        "            self.schedule.add(a)\n",
        "\n",
        "            # Add the agent to a random grid cell\n",
        "            x = self.random.randrange(self.grid.width)\n",
        "            y = self.random.randrange(self.grid.height)\n",
        "            self.grid.place_agent(a, (x, y))"
      ],
      "execution_count": 0,
      "outputs": []
    },
    {
      "cell_type": "markdown",
      "metadata": {
        "id": "cABq2sEiI005",
        "colab_type": "text"
      },
      "source": [
        ""
      ]
    },
    {
      "cell_type": "markdown",
      "metadata": {
        "id": "tY9pbuRWI1Rc",
        "colab_type": "text"
      },
      "source": [
        "Our next step is to allow the agents to behave (to basically enable their movements around their respective environment and to make them aware that they may only pass currency to other agents within the same cell).\n",
        "\n",
        "So, we will begin with movement. We need to let the agents move to adjacent cells. The grid that we are working with has a [move_agent] method which does such a thing. \n",
        "\n",
        "We still need to get to the potential adjacent cells. The grid has a pre-programmed [get_neighborhood] command which tells all agents to return to a given cell. \n",
        "\n",
        "In practice, this cell may appear either as:\n",
        "1. Moore (which allows agents to move diagonally), and\n",
        "\n",
        "2. Von Neumann (this only has agents moving up, down, left or right).\n",
        "\n",
        "We also need to assert if we will allow the centre cell to be classed as a neighbour cell.\n",
        "\n",
        "See the agent's [move] command below:"
      ]
    },
    {
      "cell_type": "code",
      "metadata": {
        "id": "piwaeNM-I1m9",
        "colab_type": "code",
        "colab": {}
      },
      "source": [
        "class MoneyAgent(Agent):\n",
        "   #...\n",
        "    def move(self):\n",
        "        possible_steps = self.model.grid.get_neighborhood(\n",
        "            self.pos,\n",
        "            moore=True,\n",
        "            include_center=False\n",
        "        )\n",
        "        new_position = self.random.choice(possible_steps)\n",
        "        self.model.grid.move_agent(self, new_position)"
      ],
      "execution_count": 0,
      "outputs": []
    },
    {
      "cell_type": "markdown",
      "metadata": {
        "id": "wdeYCsCmJCE-",
        "colab_type": "text"
      },
      "source": [
        "Now, we need to put all of the other agents within one cell and give them some money.\n",
        "\n",
        "We can get the contents of one or more cells using the grid's [get_cell_list_contents] method (or by accessing a cell directly). This method below can accept a list of cell coordinate tuples, (or just one if we only care about one cell).\n",
        "\n",
        "Steps 40 to 43 inclusive shows what the agent's step method becomes after the above code."
      ]
    },
    {
      "cell_type": "code",
      "metadata": {
        "id": "qGMzZa-2JCkQ",
        "colab_type": "code",
        "colab": {}
      },
      "source": [
        "class MoneyModel(Model):\n",
        "    \"\"\"A model with some number of agents.\"\"\"\n",
        "    def __init__(self, N, width, height):\n",
        "        self.num_agents = N\n",
        "        self.grid = MultiGrid(width, height, True)\n",
        "        self.schedule = RandomActivation(self)\n",
        "        # Create agents\n",
        "        for i in range(self.num_agents):\n",
        "            a = MoneyAgent(i, self)\n",
        "            self.schedule.add(a)\n",
        "            # Add the agent to a random grid cell\n",
        "            x = self.random.randrange(self.grid.width)\n",
        "            y = self.random.randrange(self.grid.height)\n",
        "            self.grid.place_agent(a, (x, y))\n",
        "\n",
        "    def step(self):\n",
        "        self.schedule.step()\n",
        "\n",
        "class MoneyAgent(Agent):\n",
        "    \"\"\" An agent with fixed initial wealth.\"\"\"\n",
        "    def __init__(self, unique_id, model):\n",
        "        super().__init__(unique_id, model)\n",
        "        self.wealth = 1\n",
        "\n",
        "    def move(self):\n",
        "        possible_steps = self.model.grid.get_neighborhood(\n",
        "            self.pos,\n",
        "            moore=True,\n",
        "            include_center=False)\n",
        "        new_position = self.random.choice(possible_steps)\n",
        "        self.model.grid.move_agent(self, new_position)\n",
        "\n",
        "    def give_money(self):\n",
        "        cellmates = self.model.grid.get_cell_list_contents([self.pos])\n",
        "        if len(cellmates) > 1:\n",
        "            other = self.random.choice(cellmates)\n",
        "            other.wealth += 1\n",
        "            self.wealth -= 1\n",
        "\n",
        "    def step(self):\n",
        "        self.move()\n",
        "        if self.wealth > 0:\n",
        "            self.give_money()"
      ],
      "execution_count": 0,
      "outputs": []
    },
    {
      "cell_type": "markdown",
      "metadata": {
        "id": "OajnkcjyViDl",
        "colab_type": "text"
      },
      "source": [
        "Press play on the code below and we can run a model with 50 agents on a 10X10 grid which will be ran for 20 steps."
      ]
    },
    {
      "cell_type": "code",
      "metadata": {
        "id": "KIhZjcwqVyzU",
        "colab_type": "code",
        "colab": {}
      },
      "source": [
        "model = MoneyModel(50, 10, 10)\n",
        "for i in range(20):\n",
        "    model.step()"
      ],
      "execution_count": 0,
      "outputs": []
    },
    {
      "cell_type": "markdown",
      "metadata": {
        "id": "21uPDD9PV2jX",
        "colab_type": "text"
      },
      "source": [
        "Remember that we imported [numpy] at the start of the exercise? Now it's time to use it!\n",
        "\n",
        "We will also need [matplotlib] too. These will help us to see the number of agents that sit in each cell.\n",
        "\n",
        "We will create a [numpy] spread of the same size as the grid filled with 0s. We will then use the grid object's [coord_iter()] feature. This basically lets us loop over every cell in the grid, giving us each cell's coordinates and contents."
      ]
    },
    {
      "cell_type": "code",
      "metadata": {
        "id": "M5j912vqe82R",
        "colab_type": "code",
        "colab": {}
      },
      "source": [
        "import numpy as np\n",
        "agent_counts = np.zeros((model.grid.width, model.grid.height))\n",
        "for cell in model.grid.coord_iter():\n",
        "    cell_content, x, y = cell\n",
        "    agent_count = len(cell_content)\n",
        "    agent_counts[x][y] = agent_count\n",
        "plt.imshow(agent_counts, interpolation='nearest')\n",
        "plt.colorbar()"
      ],
      "execution_count": 0,
      "outputs": []
    },
    {
      "cell_type": "markdown",
      "metadata": {
        "id": "Bjk3x6W4fIT5",
        "colab_type": "text"
      },
      "source": [
        "**PART VIII: Collecting the Data**"
      ]
    },
    {
      "cell_type": "markdown",
      "metadata": {
        "id": "9C4bQtA2jnjh",
        "colab_type": "text"
      },
      "source": [
        "Notice that we've had to write a lot of code to retrieve data from the model. This is not efficient as to know the wealth of each agent at each step, we'd have to add that to the loop of executing steps and find out how to store the data at each point.\n",
        "\n",
        "MESA does provide a programme that can data collect and store this for analysis."
      ]
    },
    {
      "cell_type": "markdown",
      "metadata": {
        "id": "6Td89TlYkSGl",
        "colab_type": "text"
      },
      "source": [
        ""
      ]
    },
    {
      "cell_type": "markdown",
      "metadata": {
        "id": "7KFuYXWLkTfL",
        "colab_type": "text"
      },
      "source": [
        "Below, we have added a [DataCollector] to the model which we will ask to collect 2 variables: \n",
        "1. At the agent level, this will be a collection of every agent's wealth at every step, and\n",
        "2. At the model level, this will be a measurement of the model's [Gini] Coefficient (a measure of wealth inequality)."
      ]
    },
    {
      "cell_type": "code",
      "metadata": {
        "id": "0TgyNWGOfTWC",
        "colab_type": "code",
        "colab": {}
      },
      "source": [
        "from mesa.datacollection import DataCollector\n",
        "\n",
        "def compute_gini(model):\n",
        "    agent_wealths = [agent.wealth for agent in model.schedule.agents]\n",
        "    x = sorted(agent_wealths)\n",
        "    N = model.num_agents\n",
        "    B = sum( xi * (N-i) for i,xi in enumerate(x) ) / (N*sum(x))\n",
        "    return (1 + (1/N) - 2*B)\n",
        "\n",
        "class MoneyAgent(Agent):\n",
        "    \"\"\" An agent with fixed initial wealth.\"\"\"\n",
        "    def __init__(self, unique_id, model):\n",
        "        super().__init__(unique_id, model)\n",
        "        self.wealth = 1\n",
        "\n",
        "    def move(self):\n",
        "        possible_steps = self.model.grid.get_neighborhood(\n",
        "            self.pos,\n",
        "            moore=True,\n",
        "            include_center=False)\n",
        "        new_position = self.random.choice(possible_steps)\n",
        "        self.model.grid.move_agent(self, new_position)\n",
        "\n",
        "    def give_money(self):\n",
        "        cellmates = self.model.grid.get_cell_list_contents([self.pos])\n",
        "        if len(cellmates) > 1:\n",
        "            other = self.random.choice(cellmates)\n",
        "            other.wealth += 1\n",
        "            self.wealth -= 1\n",
        "\n",
        "    def step(self):\n",
        "        self.move()\n",
        "        if self.wealth > 0:\n",
        "            self.give_money()\n",
        "\n",
        "class MoneyModel(Model):\n",
        "    \"\"\"A model with some number of agents.\"\"\"\n",
        "    def __init__(self, N, width, height):\n",
        "        self.num_agents = N\n",
        "        self.grid = MultiGrid(width, height, True)\n",
        "        self.schedule = RandomActivation(self)\n",
        "\n",
        "        # Create agents\n",
        "        for i in range(self.num_agents):\n",
        "            a = MoneyAgent(i, self)\n",
        "            self.schedule.add(a)\n",
        "            # Add the agent to a random grid cell\n",
        "            x = self.random.randrange(self.grid.width)\n",
        "            y = self.random.randrange(self.grid.height)\n",
        "            self.grid.place_agent(a, (x, y))\n",
        "\n",
        "        self.datacollector = DataCollector(\n",
        "            model_reporters={\"Gini\": compute_gini},  # `compute_gini` defined above\n",
        "            agent_reporters={\"Wealth\": \"wealth\"})\n",
        "\n",
        "    def step(self):\n",
        "        self.datacollector.collect(self)\n",
        "        self.schedule.step()"
      ],
      "execution_count": 0,
      "outputs": []
    },
    {
      "cell_type": "markdown",
      "metadata": {
        "id": "L4lHv2_7fbXD",
        "colab_type": "text"
      },
      "source": [
        "Now, once we complete each step of the model, the [DataCollector] will basically gather and retain the present model-level [gini] coefficient (in addition to the wealth of every agent in connection each individual with the present step)."
      ]
    },
    {
      "cell_type": "code",
      "metadata": {
        "id": "b90onHJWfeXF",
        "colab_type": "code",
        "colab": {}
      },
      "source": [
        "model = MoneyModel(50, 10, 10)\n",
        "for i in range(100):\n",
        "    model.step()"
      ],
      "execution_count": 0,
      "outputs": []
    },
    {
      "cell_type": "markdown",
      "metadata": {
        "id": "id9ojDaXfiYs",
        "colab_type": "text"
      },
      "source": [
        "In order to get the series of [gini] coefficients as a pandas DataFrame, run the following:"
      ]
    },
    {
      "cell_type": "code",
      "metadata": {
        "id": "aXHsNP41fpc-",
        "colab_type": "code",
        "colab": {}
      },
      "source": [
        "gini = model.datacollector.get_model_vars_dataframe()\n",
        "gini.plot()"
      ],
      "execution_count": 0,
      "outputs": []
    },
    {
      "cell_type": "markdown",
      "metadata": {
        "id": "oEbFmvIcfvDk",
        "colab_type": "text"
      },
      "source": [
        "To get the [agent_wealth] data in simple numbers, run the following line:"
      ]
    },
    {
      "cell_type": "code",
      "metadata": {
        "id": "JqPgBgrDf0Rr",
        "colab_type": "code",
        "colab": {}
      },
      "source": [
        "agent_wealth = model.datacollector.get_agent_vars_dataframe()\n",
        "agent_wealth.head()"
      ],
      "execution_count": 0,
      "outputs": []
    },
    {
      "cell_type": "markdown",
      "metadata": {
        "id": "ZJFwnsd6f6z8",
        "colab_type": "text"
      },
      "source": [
        "The model step and agent ID are matched. To see a histogram of what each agent's wealth is at the end of the model, run the following:"
      ]
    },
    {
      "cell_type": "code",
      "metadata": {
        "id": "PPo42Xr3gSYe",
        "colab_type": "code",
        "colab": {}
      },
      "source": [
        "end_wealth = agent_wealth.xs(99, level=\"Step\")[\"Wealth\"]\n",
        "end_wealth.hist(bins=range(agent_wealth.Wealth.max()+1))"
      ],
      "execution_count": 0,
      "outputs": []
    },
    {
      "cell_type": "markdown",
      "metadata": {
        "id": "d3RaKT3tgZg2",
        "colab_type": "text"
      },
      "source": [
        "To plot the wealth of any given agent (in this case, agent 14), run the following:"
      ]
    },
    {
      "cell_type": "code",
      "metadata": {
        "id": "lfO2ddKpggbB",
        "colab_type": "code",
        "colab": {}
      },
      "source": [
        "one_agent_wealth = agent_wealth.xs(14, level=\"AgentID\")\n",
        "one_agent_wealth.Wealth.plot()"
      ],
      "execution_count": 0,
      "outputs": []
    },
    {
      "cell_type": "markdown",
      "metadata": {
        "id": "-XtXbdJ-gsYf",
        "colab_type": "text"
      },
      "source": [
        "**PART IX: Running the Simulation in Batches**"
      ]
    },
    {
      "cell_type": "markdown",
      "metadata": {
        "id": "eXamiHsug0Gy",
        "colab_type": "text"
      },
      "source": [
        "So, to reinforce from earlier, we would not run a model just once - doing this means that we may not see the full picture. What multiple runs need alongside fixed perameters is an analysis of how this drives the model's outputs and behaviors.\n",
        "\n",
        "The clever thing about MESA is that they have a built-in [BatchRunner] that automates this process so that we do not have to write multiple nested for-loops to carry out the same actions."
      ]
    },
    {
      "cell_type": "code",
      "metadata": {
        "id": "72I8gJv0hmp_",
        "colab_type": "code",
        "colab": {}
      },
      "source": [
        "from mesa.batchrunner import BatchRunner"
      ],
      "execution_count": 0,
      "outputs": []
    },
    {
      "cell_type": "markdown",
      "metadata": {
        "id": "FO4ZAKdAho88",
        "colab_type": "text"
      },
      "source": [
        "How do we control the model once a condition is met?\n",
        "\n",
        "As we are using MESA's [MoneyModel] code, we need to input another variable for the [BatchRunner] to be able to work. Basically, the variable that we have written in below will close off the model and stop it running once the condition is met.\n",
        "\n",
        "If you see below, we will use [True] for the entire simulation."
      ]
    },
    {
      "cell_type": "code",
      "metadata": {
        "id": "7i6eCSP3hp6F",
        "colab_type": "code",
        "colab": {}
      },
      "source": [
        "class MoneyModel(Model):\n",
        "    \"\"\"A model with some number of agents.\"\"\"\n",
        "    def __init__(self, N, width, height):\n",
        "        self.num_agents = N\n",
        "        self.grid = MultiGrid(width, height, True)\n",
        "        self.schedule = RandomActivation(self)\n",
        "        self.running = True\n",
        "\n",
        "        # Create agents\n",
        "        for i in range(self.num_agents):\n",
        "            a = MoneyAgent(i, self)\n",
        "            self.schedule.add(a)\n",
        "            # Add the agent to a random grid cell\n",
        "            x = self.random.randrange(self.grid.width)\n",
        "            y = self.random.randrange(self.grid.height)\n",
        "            self.grid.place_agent(a, (x, y))\n",
        "\n",
        "        self.datacollector = DataCollector(\n",
        "            model_reporters={\"Gini\": compute_gini},\n",
        "            agent_reporters={\"Wealth\": \"wealth\"}\n",
        "        )\n",
        "\n",
        "    def step(self):\n",
        "        self.datacollector.collect(self)\n",
        "        self.schedule.step()"
      ],
      "execution_count": 0,
      "outputs": []
    },
    {
      "cell_type": "markdown",
      "metadata": {
        "id": "QuMUoXCghu6x",
        "colab_type": "text"
      },
      "source": [
        ""
      ]
    },
    {
      "cell_type": "markdown",
      "metadata": {
        "id": "PwyYSPQbhxYs",
        "colab_type": "text"
      },
      "source": [
        "See the code below as we have inputted and we can launch the [BatchRunner] programe:"
      ]
    },
    {
      "cell_type": "code",
      "metadata": {
        "id": "J4Z--Qe5hx1R",
        "colab_type": "code",
        "colab": {}
      },
      "source": [
        "fixed_params = {\n",
        "    \"width\": 10,\n",
        "    \"height\": 10\n",
        "}\n",
        "\n",
        "variable_params = {\"N\": range(10, 500, 10)}\n",
        "\n",
        "# The variables parameters will be invoke along with the fixed parameters allowing for either or both to be honored.\n",
        "batch_run = BatchRunner(\n",
        "    MoneyModel,\n",
        "    variable_params,\n",
        "    fixed_params,\n",
        "    iterations=5,\n",
        "    max_steps=100,\n",
        "    model_reporters={\"Gini\": compute_gini}\n",
        ")\n",
        "\n",
        "batch_run.run_all()"
      ],
      "execution_count": 0,
      "outputs": []
    },
    {
      "cell_type": "markdown",
      "metadata": {
        "id": "aQkAE2HJh5OD",
        "colab_type": "text"
      },
      "source": [
        "We can take this information that we have been gathering throughout this model and translate it into a [DataFrame]."
      ]
    },
    {
      "cell_type": "code",
      "metadata": {
        "id": "aDhKUIhMh5_K",
        "colab_type": "code",
        "colab": {}
      },
      "source": [
        "run_data = batch_run.get_model_vars_dataframe()\n",
        "run_data.head()\n",
        "plt.scatter(run_data.N, run_data.Gini)"
      ],
      "execution_count": 0,
      "outputs": []
    },
    {
      "cell_type": "markdown",
      "metadata": {
        "id": "3vNIesPciKzg",
        "colab_type": "text"
      },
      "source": [
        "So, although this graph looks like a scatter of points, each row represents the run of a model. This thereby shows us the values of the parameters of each of those runs.\n"
      ]
    },
    {
      "cell_type": "markdown",
      "metadata": {
        "id": "bOPrz7hq2ywg",
        "colab_type": "text"
      },
      "source": [
        "**PART X: Exercises to Complete**"
      ]
    },
    {
      "cell_type": "markdown",
      "metadata": {
        "id": "nLCPabzz25ko",
        "colab_type": "text"
      },
      "source": [
        "So, that is a basic Mesa model, but how can we take this further?"
      ]
    },
    {
      "cell_type": "markdown",
      "metadata": {
        "id": "nVGJpQX1tm6y",
        "colab_type": "text"
      },
      "source": [
        "*If you wish to build on this model, one can use JavaScript to create a visualisation for the model. Please see the website at the start of this workbook to access the instructions for this.*"
      ]
    }
  ]
}